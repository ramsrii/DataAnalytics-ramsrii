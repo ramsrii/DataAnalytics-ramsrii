{
 "cells": [
  {
   "cell_type": "code",
   "execution_count": 1,
   "id": "f0a2f192",
   "metadata": {},
   "outputs": [],
   "source": [
    "import os,shutil"
   ]
  },
  {
   "cell_type": "code",
   "execution_count": 7,
   "id": "a6d369f4",
   "metadata": {},
   "outputs": [],
   "source": [
    "path=r\"C:/Users/sriram/OneDrive/Documents/Dummy Folder/\""
   ]
  },
  {
   "cell_type": "code",
   "execution_count": 8,
   "id": "bbd8d23f",
   "metadata": {},
   "outputs": [],
   "source": [
    "File_Name=os.listdir(path)"
   ]
  },
  {
   "cell_type": "code",
   "execution_count": 9,
   "id": "52e3a21a",
   "metadata": {},
   "outputs": [],
   "source": [
    "Folder_Names=['Csv files','Text Files','Image Files']\n",
    "\n",
    "for loop in range(0,3):\n",
    "    if not os.path.exists(path+Folder_Names[loop]):\n",
    "        os.makedirs(path+Folder_Names[loop])\n",
    "\n",
    "\n",
    "for file in File_Name:\n",
    "    if \".csv\" in file and not  os.path.exists(path+\"Csv files/\"+file):\n",
    "        shutil.move(path+file,path+\"Csv files/\"+file)\n",
    "    elif \".jpg\" in file and not  os.path.exists(path+\"Image Files/\"+file):\n",
    "        shutil.move(path+file,path+\"Image Files/\"+file)\n",
    "    elif \".txt\" in file and not  os.path.exists(path+\"Text Files/\"+file):\n",
    "        shutil.move(path+file,path+\"Text Files/\"+file)\n"
   ]
  },
  {
   "cell_type": "code",
   "execution_count": 12,
   "id": "bf1d0b17",
   "metadata": {},
   "outputs": [],
   "source": []
  },
  {
   "cell_type": "code",
   "execution_count": null,
   "id": "e0fe8aba",
   "metadata": {},
   "outputs": [],
   "source": []
  }
 ],
 "metadata": {
  "kernelspec": {
   "display_name": "Python 3 (ipykernel)",
   "language": "python",
   "name": "python3"
  },
  "language_info": {
   "codemirror_mode": {
    "name": "ipython",
    "version": 3
   },
   "file_extension": ".py",
   "mimetype": "text/x-python",
   "name": "python",
   "nbconvert_exporter": "python",
   "pygments_lexer": "ipython3",
   "version": "3.10.9"
  }
 },
 "nbformat": 4,
 "nbformat_minor": 5
}
